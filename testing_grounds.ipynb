{
 "cells": [
  {
   "cell_type": "code",
   "execution_count": null,
   "metadata": {},
   "outputs": [],
   "source": [
    "import streamlit as st\n",
    "import pandas as pd\n",
    "import sqlalchemy as sq\n",
    "import datetime as dt"
   ]
  },
  {
   "cell_type": "code",
   "execution_count": null,
   "metadata": {},
   "outputs": [],
   "source": [
    "engine = sq.create_engine('sqlite:///data/find_me.db')\n",
    "cnx = engine.connect()"
   ]
  },
  {
   "cell_type": "code",
   "execution_count": null,
   "metadata": {},
   "outputs": [],
   "source": [
    "df = pd.DataFrame({\n",
    "    'current_loc':['current city'],\n",
    "    'current_date':[dt.datetime.now().date()],\n",
    "    'future_loc':['new city'],\n",
    "    'future_date':[dt.datetime.strptime('2021-02-28','%Y-%m-%d')],\n",
    "    'confirm_code':['unknown']\n",
    "})"
   ]
  },
  {
   "cell_type": "code",
   "execution_count": null,
   "metadata": {},
   "outputs": [],
   "source": [
    "df.to_sql('location',con=cnx,if_exists='replace',index=False)"
   ]
  },
  {
   "cell_type": "code",
   "execution_count": null,
   "metadata": {},
   "outputs": [],
   "source": [
    "pd.read_sql('location',cnx)"
   ]
  },
  {
   "cell_type": "code",
   "execution_count": null,
   "metadata": {},
   "outputs": [],
   "source": [
    "st.image()"
   ]
  },
  {
   "cell_type": "markdown",
   "metadata": {},
   "source": [
    "# TripIt Integration"
   ]
  },
  {
   "cell_type": "markdown",
   "metadata": {},
   "source": [
    "[Source](https://github.com/tripit/api/issues/240) for getting oauth key"
   ]
  },
  {
   "cell_type": "code",
   "execution_count": 49,
   "metadata": {},
   "outputs": [],
   "source": [
    "api_id = \"8fd219b1-32b8-42b6-976a-9f52b10dd1d8\"\n",
    "api_key = \"38edb5712ffea44d695450e6bbb045a5be0ee0b4\"\n",
    "api_secret = \"ebcfec1bde291713abff9258b63c3eba3b7a94de\"\n",
    "\n",
    "oauth_token = \"8e6c121df927492ba893b1d48d333bca\"\n",
    "oauth_token_secret=\"a0836bb8c12143609fb6d2e4253eeed3\""
   ]
  },
  {
   "cell_type": "code",
   "execution_count": null,
   "metadata": {},
   "outputs": [],
   "source": []
  },
  {
   "cell_type": "code",
   "execution_count": 46,
   "metadata": {},
   "outputs": [],
   "source": [
    "import requests as r\n",
    "from requests_oauthlib import OAuth1Session"
   ]
  },
  {
   "cell_type": "markdown",
   "metadata": {},
   "source": [
    "`curl -k -D /dev/tty --user <username>:<password> https://api.tripit.com/v1/get/note/id/586853`"
   ]
  },
  {
   "cell_type": "code",
   "execution_count": 48,
   "metadata": {},
   "outputs": [
    {
     "data": {
      "text/plain": [
       "<Response [401]>"
      ]
     },
     "execution_count": 48,
     "metadata": {},
     "output_type": "execute_result"
    }
   ],
   "source": [
    "OAuth1Session(client_key = api_key, client_secret = api_secret).get(url)"
   ]
  },
  {
   "cell_type": "code",
   "execution_count": null,
   "metadata": {},
   "outputs": [],
   "source": [
    "# request token\n",
    "\n",
    "url = 'https://api.tripit.com/oauth/request_token'\n",
    "params = {\n",
    "    'oauth_consumer_key':\n",
    "}\n",
    "r.post(url=url)"
   ]
  },
  {
   "cell_type": "code",
   "execution_count": 8,
   "metadata": {},
   "outputs": [],
   "source": [
    "obj_type = 'air'"
   ]
  },
  {
   "cell_type": "code",
   "execution_count": 17,
   "metadata": {},
   "outputs": [],
   "source": [
    "test = r.get(url = f\"https://www.tripit.com/oauth/authorize?oauth_token={oauth_token}&oauth_callback=https://www.tripit.com/trips\")"
   ]
  },
  {
   "cell_type": "code",
   "execution_count": 44,
   "metadata": {},
   "outputs": [],
   "source": [
    "headers_dict = {\n",
    "    'oauth_consumer_key':api_key,\n",
    "    'oauth_token':oauth_token,\n",
    "    'oauth_signature_method':\"HMAC-SHA1\",\n",
    "    'oauth_signature':\"request signature\",\n",
    "    'oauth_timestamp':\"1229622199\",\n",
    "    'oauth_nonce':\"9b308304f41a4ac04fb4c4ce980c5277\",\n",
    "    'oauth_version':\"1.0\"\n",
    "}"
   ]
  },
  {
   "cell_type": "code",
   "execution_count": 45,
   "metadata": {},
   "outputs": [
    {
     "data": {
      "text/plain": [
       "<Response [401]>"
      ]
     },
     "execution_count": 45,
     "metadata": {},
     "output_type": "execute_result"
    }
   ],
   "source": [
    "url = \"https://api.tripit.com/v1/list/object\"\n",
    "r.get(url=url,headers=headers_dict)"
   ]
  },
  {
   "cell_type": "code",
   "execution_count": 39,
   "metadata": {},
   "outputs": [],
   "source": [
    "from requests_oauthlib import OAuth1Session"
   ]
  },
  {
   "cell_type": "code",
   "execution_count": 43,
   "metadata": {},
   "outputs": [
    {
     "data": {
      "text/plain": [
       "<Response [401]>"
      ]
     },
     "execution_count": 43,
     "metadata": {},
     "output_type": "execute_result"
    }
   ],
   "source": [
    "OAuth1Session(api_key, api_secret).get(url)"
   ]
  },
  {
   "cell_type": "code",
   "execution_count": null,
   "metadata": {},
   "outputs": [],
   "source": []
  }
 ],
 "metadata": {
  "kernelspec": {
   "display_name": "Data Env",
   "language": "python",
   "name": "data_env"
  },
  "language_info": {
   "codemirror_mode": {
    "name": "ipython",
    "version": 3
   },
   "file_extension": ".py",
   "mimetype": "text/x-python",
   "name": "python",
   "nbconvert_exporter": "python",
   "pygments_lexer": "ipython3",
   "version": "3.6.12"
  }
 },
 "nbformat": 4,
 "nbformat_minor": 4
}
